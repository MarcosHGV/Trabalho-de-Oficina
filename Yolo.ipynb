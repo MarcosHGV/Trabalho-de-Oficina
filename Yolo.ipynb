{
 "cells": [
  {
   "cell_type": "code",
   "execution_count": null,
   "metadata": {},
   "outputs": [],
   "source": [
    "import torch\n",
    "import cv2\n",
    "import time\n",
    "import psutil"
   ]
  },
  {
   "cell_type": "code",
   "execution_count": null,
   "metadata": {},
   "outputs": [],
   "source": [
    "\n",
    "MODEL_PATH = r'C:\\Users\\MarcosHenriqueSaito\\Documents\\Oficina\\MarcosYoloV\\yolov5\\yolov5s.pt'\n"
   ]
  },
  {
   "cell_type": "code",
   "execution_count": null,
   "metadata": {},
   "outputs": [],
   "source": [
    "\n",
    "def load_yolov5_model():\n",
    "    model = torch.hub.load('ultralytics/yolov5', 'custom', path=MODEL_PATH)\n",
    "    model.conf = 0.5\n",
    "    model.iou = 0.45\n",
    "    model.classes = [0]\n",
    "    return model"
   ]
  },
  {
   "cell_type": "code",
   "execution_count": null,
   "metadata": {},
   "outputs": [],
   "source": [
    "\n",
    "def detect_faces_yolov5(model, frame):\n",
    "    results = model(frame)\n",
    "    detections = results.xyxy[0].cpu().numpy()\n",
    "\n",
    "    for detection in detections:\n",
    "        x1, y1, x2, y2, conf, cls = detection\n",
    "        label = f\"Conf: {conf:.2f}\"\n",
    "        cv2.rectangle(frame, (int(x1), int(y1)), (int(x2), int(y2)), (0, 255, 0), 2)\n",
    "        cv2.putText(frame, label, (int(x1), int(y1) - 10), cv2.FONT_HERSHEY_SIMPLEX, 0.5, (0, 255, 0), 2)\n",
    "\n",
    "    return frame"
   ]
  },
  {
   "cell_type": "code",
   "execution_count": null,
   "metadata": {},
   "outputs": [],
   "source": [
    "\n",
    "model = load_yolov5_model()"
   ]
  },
  {
   "cell_type": "code",
   "execution_count": null,
   "metadata": {},
   "outputs": [],
   "source": [
    "\n",
    "cap = cv2.VideoCapture(0)\n",
    "\n",
    "if not cap.isOpened():\n",
    "    print(\"Erro ao acessar a câmera!\")\n",
    "    exit()\n",
    "\n",
    "print(\"Pressione 'q' para sair.\")"
   ]
  },
  {
   "cell_type": "code",
   "execution_count": null,
   "metadata": {},
   "outputs": [],
   "source": [
    "while True:\n",
    "    ret, frame = cap.read()\n",
    "    if not ret:\n",
    "        print(\"Erro ao capturar o quadro!\")\n",
    "        break\n",
    "\n",
    "    start_time = time.time()\n",
    "    \n",
    "    frame = detect_faces_yolov5(model, frame)\n",
    "    \n",
    "    end_time = time.time()\n",
    "    \n",
    "    latency = end_time - start_time\n",
    "    cpu_usage = psutil.cpu_percent(interval=1)\n",
    "\n",
    "    print(f\"Latência: {latency:.4f} segundos | Uso da CPU: {cpu_usage}%\")\n",
    "\n",
    "    cv2.imshow(\"Detecção YOLOv5 - Rosto\", frame)\n",
    "\n",
    "    if cv2.waitKey(1) & 0xFF == ord('q'):\n",
    "        break\n"
   ]
  },
  {
   "cell_type": "code",
   "execution_count": null,
   "metadata": {},
   "outputs": [],
   "source": [
    "cap.release()\n",
    "cv2.destroyAllWindows()"
   ]
  },
  {
   "cell_type": "code",
   "execution_count": null,
   "metadata": {},
   "outputs": [],
   "source": [
    "\n",
    "model = torch.hub.load('ultralytics/yolov5', 'custom', path=r'C:\\Users\\MarcosHenriqueSaito\\Documents\\Oficina\\MarcosYoloV\\yolov5\\runs\\train\\exp2\\weights\\best.pt')\n",
    "\n",
    "img = 'path_to_test_images'\n",
    "\n",
    "results = model(img)\n",
    "\n",
    "results.print() \n"
   ]
  }
 ],
 "metadata": {
  "kernelspec": {
   "display_name": "yolov5-env",
   "language": "python",
   "name": "python3"
  },
  "language_info": {
   "codemirror_mode": {
    "name": "ipython",
    "version": 3
   },
   "file_extension": ".py",
   "mimetype": "text/x-python",
   "name": "python",
   "nbconvert_exporter": "python",
   "pygments_lexer": "ipython3",
   "version": "3.9.20"
  }
 },
 "nbformat": 4,
 "nbformat_minor": 2
}
